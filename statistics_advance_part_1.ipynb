{
  "nbformat": 4,
  "nbformat_minor": 0,
  "metadata": {
    "colab": {
      "provenance": []
    },
    "kernelspec": {
      "name": "python3",
      "display_name": "Python 3"
    },
    "language_info": {
      "name": "python"
    }
  },
  "cells": [
    {
      "cell_type": "markdown",
      "source": [
        "Q1 What is a random variable in probability theory?"
      ],
      "metadata": {
        "id": "20ooVVgBgY7_"
      }
    },
    {
      "cell_type": "markdown",
      "source": [
        "• A random variable is a variable whose value depends on the outcome of a random experiment\n",
        "\n",
        "\n",
        "• It converts uncertain outcomes into numerical values used in probability calculations\n",
        "\n",
        "\n",
        "• It helps in studying and calculating probabilities in a mathematical form.\n",
        "• It can be discrete (countable values like 0,1,2) or continuous (any value in a range like 1.5,2.3)\n",
        "\n",
        "\n",
        "• Example: Number of heads when tossing coins is a random variable\n",
        "\n",
        "\n",
        "• Example: Time taken for a bus to arrive is also a random variable\n",
        "\n",
        "\n",
        "• It is used to find probability, mean, and variance in probability theory"
      ],
      "metadata": {
        "id": "2CcJs0R0h2TL"
      }
    },
    {
      "cell_type": "markdown",
      "source": [
        "Q2 What are the types of random variables?\n"
      ],
      "metadata": {
        "id": "YKTXjZnOh8iK"
      }
    },
    {
      "cell_type": "markdown",
      "source": [
        "• There are mainly two types of random variables in probability\n",
        "\n",
        "\n",
        "• The first type is a Discrete Random Variable, which takes countable values like 0, 1, 2, 3\n",
        "\n",
        "\n",
        "• The second type is a Continuous Random Variable, which can take any value within a range, like 1.5 or 2.7\n",
        "\n",
        "\n",
        "• Discrete random variables are used for counting outcomes, such as number of heads in coin tosses\n",
        "\n",
        "\n",
        "• Continuous random variables are used for measuring outcomes, such as time, height, or weight\n",
        "\n",
        "\n",
        "• Both types help in understanding different kinds of probability distributions"
      ],
      "metadata": {
        "id": "93U_vVgRiJ-T"
      }
    },
    {
      "cell_type": "markdown",
      "source": [
        "Q3 What is the difference between discrete and continuous distributions?"
      ],
      "metadata": {
        "id": "qvWnuonyiP_j"
      }
    },
    {
      "cell_type": "markdown",
      "source": [
        "• Discrete distribution deals with countable outcomes like 0, 1, 2, 3\n",
        "\n",
        "\n",
        "• Continuous distribution deals with uncountable values within a range like 1.5, 2.3, 2.8\n",
        "\n",
        "\n",
        "• Discrete distribution is used for events that can be listed or counted\n",
        "\n",
        "\n",
        "• Continuous distribution is used for measurements such as time, height, and weight\n",
        "\n",
        "\n",
        "• In discrete distribution, probabilities are assigned to specific individual values\n",
        "\n",
        "\n",
        "• In continuous distribution, probabilities are assigned over intervals or ranges of values\n",
        "\n",
        "\n",
        "• Discrete distribution examples include Binomial and Poisson distributions\n",
        "\n",
        "\n",
        "• Continuous distribution examples include Normal and Exponential distributions."
      ],
      "metadata": {
        "id": "uB9lycaWieaz"
      }
    },
    {
      "cell_type": "markdown",
      "source": [
        "Q4 What are probability distribution functions (PDF)?"
      ],
      "metadata": {
        "id": "RXJrVottipAj"
      }
    },
    {
      "cell_type": "markdown",
      "source": [
        "• A probability distribution function (PDF) describes how probabilities are distributed over possible values of a random variable\n",
        "\n",
        "\n",
        "• It shows the likelihood of each value or range of values that the variable can take\n",
        "\n",
        "\n",
        "• For discrete variables, it is called a Probability Mass Function (PMF) and gives probability for each specific value\n",
        "\n",
        "\n",
        "• For continuous variables, PDF gives the probability over an interval, not exact values\n",
        "\n",
        "\n",
        "• The total area under a PDF curve is always equal to 1, representing total probability\n",
        "\n",
        "\n",
        "• PDF helps in calculating probabilities, mean, variance, and understanding the behavior of a random variable\n",
        "\n",
        "\n",
        "• PDF is widely used in statistics, data analysis, and probability modeling."
      ],
      "metadata": {
        "id": "U6faNCgXix2b"
      }
    },
    {
      "cell_type": "markdown",
      "source": [
        "Q5  How do cumulative distribution functions (CDF) differ from probability distribution functions (PDF)?"
      ],
      "metadata": {
        "id": "Mgmdb04Fi6gq"
      }
    },
    {
      "cell_type": "markdown",
      "source": [
        "• A Probability Distribution Function (PDF) shows the probability of a random variable taking a specific value or falling within a specific range\n",
        "\n",
        "\n",
        "• A Cumulative Distribution Function (CDF) shows the probability that a random variable is less than or equal to a certain value\n",
        "\n",
        "\n",
        "• PDF gives probability for individual values (discrete) or density over intervals (continuous)\n",
        "\n",
        "\n",
        "• CDF gives a running total of probabilities from the lowest value up to a specific value\n",
        "\n",
        "\n",
        "• The CDF curve is always non-decreasing and ranges from 0 to 1\n",
        "\n",
        "\n",
        "• PDF can have peaks and vary across values, while CDF is smooth and cumulative\n",
        "\n",
        "\n",
        "• CDF helps in finding probabilities for ranges easily, whereas PDF shows the exact probability distribution"
      ],
      "metadata": {
        "id": "rB_cNmp-jFiz"
      }
    },
    {
      "cell_type": "markdown",
      "source": [
        "Q6  What is a discrete uniform distribution?"
      ],
      "metadata": {
        "id": "SwSPOKrMjLzL"
      }
    },
    {
      "cell_type": "markdown",
      "source": [
        "A discrete uniform distribution is a type of probability distribution where all possible outcomes have equal probability\n",
        "\n",
        "\n",
        "• Each value in the set of possible outcomes is equally likely to occur\n",
        "\n",
        "\n",
        "• It is a discrete distribution, meaning the outcomes are countable\n",
        "\n",
        "\n",
        "• The probability of each outcome is calculated as 1 divided by the total number of outcomes\n",
        "\n",
        "\n",
        "• Example: Rolling a fair six-sided dice, where each number from 1 to 6 has a probability of 1/6\n",
        "\n",
        "\n",
        "• Discrete uniform distribution is used in situations with equally likely events."
      ],
      "metadata": {
        "id": "cWC4allqjaWL"
      }
    },
    {
      "cell_type": "markdown",
      "source": [
        "Q7  What are the key properties of a Bernoulli distribution?"
      ],
      "metadata": {
        "id": "PP57PGJjjfmT"
      }
    },
    {
      "cell_type": "markdown",
      "source": [
        "• A Bernoulli distribution is a discrete probability distribution for a random experiment with only two outcomes\n",
        "\n",
        "\n",
        "• The two outcomes are usually labeled as success (1) and failure (0)\n",
        "\n",
        "\n",
        "• It has a single parameter p, which is the probability of success\n",
        "\n",
        "\n",
        "• The probability of failure is 1 − p\n",
        "\n",
        "\n",
        "• The mean (expected value) of a Bernoulli distribution is p\n",
        "\n",
        "\n",
        "• The variance of a Bernoulli distribution is p(1 − p)\n",
        "\n",
        "\n",
        "• It is the simplest form of a discrete distribution and is used to model yes/no, true/false, or success/failure events."
      ],
      "metadata": {
        "id": "iX9NQrHFjqWS"
      }
    },
    {
      "cell_type": "markdown",
      "source": [
        "Q8  What is the binomial distribution, and how is it used in probability?"
      ],
      "metadata": {
        "id": "uKO71vpKjwKy"
      }
    },
    {
      "cell_type": "markdown",
      "source": [
        "A binomial distribution is a discrete probability distribution that describes the number of successes in a fixed number of independent trials\n",
        "\n",
        "\n",
        "• Each trial has only two outcomes: success or failure\n",
        "\n",
        "\n",
        "• The probability of success in each trial is p, and failure is 1 − p\n",
        "\n",
        "\n",
        "• The number of trials is denoted by n, and the random variable counts the total successes\n",
        "\n",
        "\n",
        "• Binomial distribution is used in probability to model situations like tossing coins, quality control, and survey responses\n",
        "\n",
        "\n",
        "• It helps in calculating probabilities, expected number of successes, and variance in repeated experiments."
      ],
      "metadata": {
        "id": "aClet8tMkQpK"
      }
    },
    {
      "cell_type": "markdown",
      "source": [
        "Q9 What is the Poisson distribution and where is it applied?"
      ],
      "metadata": {
        "id": "nDaMG1yQkWB7"
      }
    },
    {
      "cell_type": "markdown",
      "source": [
        "• A Poisson distribution is a discrete probability distribution that gives the probability of a given number of events occurring in a fixed interval of time or space\n",
        "\n",
        "\n",
        "• It is used when events occur independently and the average rate of occurrence is known\n",
        "\n",
        "\n",
        "• The distribution has a single parameter λ (lambda), which is the average number of events in the interval\n",
        "\n",
        "\n",
        "• Poisson distribution is applied in situations like number of phone calls received per hour, number of accidents at a junction, or number of emails received in a day\n",
        "\n",
        "\n",
        "• It helps in modeling rare events and calculating probabilities of different counts of occurrences."
      ],
      "metadata": {
        "id": "oeQb7k5rkgFk"
      }
    },
    {
      "cell_type": "markdown",
      "source": [
        "Q10  What is a continuous uniform distribution?"
      ],
      "metadata": {
        "id": "q_tNtCxFklFT"
      }
    },
    {
      "cell_type": "markdown",
      "source": [
        "• A continuous uniform distribution is a probability distribution where all values in a continuous range are equally likely to occur\n",
        "\n",
        "\n",
        "• The distribution is defined over an interval [a, b], where a is the minimum value and b is the maximum value\n",
        "\n",
        "\n",
        "• The probability of the variable falling within any sub-interval is proportional to the length of the sub-interval\n",
        "\n",
        "\n",
        "• The probability density function (PDF) is constant across the range [a, b]\n",
        "\n",
        "\n",
        "• Continuous uniform distribution is used in situations like randomly selecting a number between 0 and 1 or simulating equal likelihood events over a range\n",
        "\n",
        "\n",
        "• It helps in modeling scenarios where there is no bias toward any value within the interval."
      ],
      "metadata": {
        "id": "wClY2kDRktGS"
      }
    },
    {
      "cell_type": "markdown",
      "source": [
        "Q11  What are the characteristics of a normal distribution?"
      ],
      "metadata": {
        "id": "fPpmxq-Zk5Da"
      }
    },
    {
      "cell_type": "markdown",
      "source": [
        "• A normal distribution is a continuous probability distribution that is bell-shaped and symmetric around the mean\n",
        "\n",
        "\n",
        "• The mean, median, and mode of a normal distribution are all equal\n",
        "\n",
        "\n",
        "• It is defined by two parameters: mean (μ) and standard deviation (σ)\n",
        "\n",
        "\n",
        "• About 68% of data lies within one standard deviation of the mean, 95% within two, and 99.7% within three (Empirical Rule)\n",
        "\n",
        "\n",
        "• The tails of the distribution extend infinitely in both directions but never touch the horizontal axis\n",
        "\n",
        "\n",
        "• Normal distribution is widely used in statistics, natural and social sciences, and probability modeling\n",
        "\n",
        "\n",
        "• It models many real-world phenomena like heights, test scores, and measurement errors"
      ],
      "metadata": {
        "id": "fy7yA20PlB1M"
      }
    },
    {
      "cell_type": "markdown",
      "source": [
        "Q12 What is the standard normal distribution, and why is it important?"
      ],
      "metadata": {
        "id": "HPvPPeHylICq"
      }
    },
    {
      "cell_type": "markdown",
      "source": [
        "• A standard normal distribution is a special case of the normal distribution with a mean of 0 and a standard deviation of 1\n",
        "\n",
        "\n",
        "• It is also called the Z-distribution, and values are expressed as Z-scores\n",
        "\n",
        "\n",
        "• Z-scores represent the number of standard deviations a value is from the mean\n",
        "\n",
        "\n",
        "• It allows comparison of values from different normal distributions on a common scale\n",
        "\n",
        "\n",
        "• Standard normal distribution is important for calculating probabilities, hypothesis testing, and statistical inference\n",
        "\n",
        "\n",
        "• It simplifies probability calculations using standard normal tables\n",
        "\n",
        "\n",
        "• Many statistical methods assume data follows a standard normal distribution for accuracy and consistency."
      ],
      "metadata": {
        "id": "b2JTAfhFlQGy"
      }
    },
    {
      "cell_type": "markdown",
      "source": [
        "Q13  What is the Central Limit Theorem (CLT), and why is it critical in statistics?"
      ],
      "metadata": {
        "id": "CYYgPrGjlVrS"
      }
    },
    {
      "cell_type": "markdown",
      "source": [
        "• The Central Limit Theorem (CLT) states that the sampling distribution of the sample mean approaches a normal distribution as the sample size increases, regardless of the population's original distribution\n",
        "\n",
        "\n",
        "• It applies when the sample size is sufficiently large, usually n ≥ 30\n",
        "\n",
        "\n",
        "• CLT allows statisticians to make inferences about population parameters using sample data\n",
        "\n",
        "\n",
        "• It is critical because it justifies the use of normal distribution techniques even for non-normal populations\n",
        "\n",
        "\n",
        "• CLT enables calculation of confidence intervals and hypothesis testing\n",
        "\n",
        "\n",
        "• It forms the foundation for many statistical methods in research, business, and social sciences."
      ],
      "metadata": {
        "id": "4b65d0P2lfYQ"
      }
    },
    {
      "cell_type": "markdown",
      "source": [
        "Q14 How does the Central Limit Theorem relate to the normal distribution?"
      ],
      "metadata": {
        "id": "E51vpv3cllly"
      }
    },
    {
      "cell_type": "markdown",
      "source": [
        "• The Central Limit Theorem (CLT) states that the distribution of sample means approaches a normal distribution as the sample size increases, regardless of the population’s original distribution\n",
        "\n",
        "\n",
        "• This means even if the population is not normally distributed, the sampling distribution of the mean will be approximately normal for large samples\n",
        "\n",
        "\n",
        "• The normal distribution resulting from CLT has a mean equal to the population mean (μ) and a standard deviation equal to the population standard deviation divided by the square root of the sample size (σ/√n)\n",
        "\n",
        "\n",
        "• CLT allows statisticians to use normal distribution methods for probability calculations and hypothesis testing\n",
        "\n",
        "\n",
        "• It provides a bridge between real-world data and theoretical normal distribution, making statistical analysis easier and more accurate."
      ],
      "metadata": {
        "id": "wueS6Y21l0Js"
      }
    },
    {
      "cell_type": "markdown",
      "source": [
        "Q15 What is the application of Z statistics in hypothesis testing?"
      ],
      "metadata": {
        "id": "I6y60m4gl5Dd"
      }
    },
    {
      "cell_type": "markdown",
      "source": [
        "• Z statistics is used in hypothesis testing to determine whether a sample mean is significantly different from a population mean\n",
        "\n",
        "\n",
        "• It converts the difference between the sample mean and population mean into a Z-score, measured in standard deviations\n",
        "\n",
        "\n",
        "• Z statistics helps in comparing sample data to the standard normal distribution\n",
        "\n",
        "\n",
        "• It is used when the population variance is known and the sample size is large (usually n ≥ 30)\n",
        "\n",
        "\n",
        "• Z statistics allows calculation of p-values to decide whether to accept or reject the null hypothesis\n",
        "\n",
        "\n",
        "• It is applied in tests like one-sample Z-test, two-sample Z-test, and proportion tests\n",
        "\n",
        "\n",
        "• Z statistics simplifies hypothesis testing by providing a standardized method for decision making."
      ],
      "metadata": {
        "id": "Pz6gA3AmmF-K"
      }
    },
    {
      "cell_type": "markdown",
      "source": [
        "Q16 How do you calculate a Z-score, and what does it represent?"
      ],
      "metadata": {
        "id": "MgUoPYwNmMja"
      }
    },
    {
      "cell_type": "markdown",
      "source": [
        "• A Z-score is calculated using the formula Z = (X − μ) / σ, where X is the value, μ is the mean, and σ is the standard deviation\n",
        "\n",
        "\n",
        "• It represents the number of standard deviations a data point is from the mean\n",
        "\n",
        "\n",
        "• A positive Z-score indicates the value is above the mean, and a negative Z-score indicates it is below the mean\n",
        "\n",
        "\n",
        "• Z-scores allow comparison of values from different distributions on a common scale\n",
        "\n",
        "\n",
        "• They are used to identify outliers, calculate probabilities, and perform hypothesis testing\n",
        "\n",
        "\n",
        "• Z-scores help in understanding the relative position of a data point within a distribution."
      ],
      "metadata": {
        "id": "AXpsRffrmSja"
      }
    },
    {
      "cell_type": "markdown",
      "source": [
        "Q17  What are point estimates and interval estimates in statistics?\n"
      ],
      "metadata": {
        "id": "3pZcXKZcmb7y"
      }
    },
    {
      "cell_type": "markdown",
      "source": [
        "Point estimates are single values calculated from sample data to estimate a population parameter, like the sample mean estimating the population mean\n",
        "\n",
        "\n",
        "• Interval estimates provide a range of values within which the population parameter is likely to lie, usually expressed with a confidence level\n",
        "\n",
        "\n",
        "• Point estimates give a specific value, while interval estimates give an estimate with uncertainty\n",
        "\n",
        "\n",
        "• Interval estimates are often called confidence intervals\n",
        "\n",
        "\n",
        "• Both point and interval estimates are used in inferential statistics to make conclusions about populations from samples\n",
        "\n",
        "\n",
        "• Point estimates are simple but less informative, whereas interval estimates provide more reliability and context."
      ],
      "metadata": {
        "id": "lLHzz_F5mtVo"
      }
    },
    {
      "cell_type": "markdown",
      "source": [
        "Q18  What is the significance of confidence intervals in statistical analysis?"
      ],
      "metadata": {
        "id": "zs9tZzjpmze0"
      }
    },
    {
      "cell_type": "markdown",
      "source": [
        "• Confidence intervals provide a range of values that likely contain the true population parameter\n",
        "\n",
        "\n",
        "• They express the uncertainty associated with a sample estimate\n",
        "\n",
        "\n",
        "• A higher confidence level (like 95% or 99%) indicates greater certainty that the interval contains the true value\n",
        "\n",
        "\n",
        "• Confidence intervals help in making informed decisions and drawing conclusions from sample data\n",
        "\n",
        "\n",
        "• They are widely used in hypothesis testing, surveys, and research studies\n",
        "\n",
        "\n",
        "• Confidence intervals give both the estimate and the precision, making statistical analysis more meaningful."
      ],
      "metadata": {
        "id": "MD_xdQ5jm-i7"
      }
    },
    {
      "cell_type": "markdown",
      "source": [
        "Q19 What is the relationship between a Z-score and a confidence interval?"
      ],
      "metadata": {
        "id": "XUZS7d-xnDpz"
      }
    },
    {
      "cell_type": "markdown",
      "source": [
        "• A Z-score is used to determine the critical value for a confidence interval in a normal distribution\n",
        "\n",
        "\n",
        "• The critical Z-score corresponds to the desired confidence level (e.g., 1.96 for 95% confidence)\n",
        "\n",
        "\n",
        "• Confidence intervals are calculated using the formula: estimate ± (Z × standard error)\n",
        "\n",
        "\n",
        "• The Z-score shows how many standard errors away from the mean the interval extends\n",
        "\n",
        "\n",
        "• It links the probability of containing the true population parameter to the width of the confidence interval\n",
        "\n",
        "\n",
        "• Higher Z-scores result in wider confidence intervals, reflecting greater certainty."
      ],
      "metadata": {
        "id": "w05HQNpUnOMD"
      }
    },
    {
      "cell_type": "markdown",
      "source": [
        "Q20  How are Z-scores used to compare different distributions?"
      ],
      "metadata": {
        "id": "VZf3FApCnS1z"
      }
    },
    {
      "cell_type": "markdown",
      "source": [
        "• Z-scores standardize values from different distributions by converting them into units of standard deviation from their respective means\n",
        "\n",
        "\n",
        "• They allow direct comparison of data points from different scales or distributions\n",
        "\n",
        "\n",
        "• A higher Z-score indicates a value is further above its mean, while a lower Z-score indicates it is further below its mean\n",
        "\n",
        "\n",
        "• Z-scores help identify relative standing or extremeness of values across datasets\n",
        "\n",
        "\n",
        "• They are used in grading, performance analysis, and research to compare results fairly\n",
        "\n",
        "\n",
        "• Using Z-scores removes the effect of different units or variability, making comparisons meaningful."
      ],
      "metadata": {
        "id": "FXeT-rTundLi"
      }
    },
    {
      "cell_type": "markdown",
      "source": [
        "Q21  What are the assumptions for applying the Central Limit Theorem?"
      ],
      "metadata": {
        "id": "Rvm4GAQznixy"
      }
    },
    {
      "cell_type": "markdown",
      "source": [
        "• The sample observations must be independent of each other\n",
        "\n",
        "\n",
        "• The sample size should be sufficiently large, typically n ≥ 30\n",
        "\n",
        "\n",
        "• The data can come from any population distribution, but larger samples produce better approximations to normality\n",
        "\n",
        "\n",
        "• The sampling is usually done randomly from the population\n",
        "\n",
        "\n",
        "• For small sample sizes, the population should be approximately normal to apply the theorem accurately\n",
        "\n",
        "\n",
        "• The population should have a finite mean (μ) and finite variance (σ²)."
      ],
      "metadata": {
        "id": "-_OBGym7nrmi"
      }
    },
    {
      "cell_type": "markdown",
      "source": [
        "Q22 What is the concept of expected value in a probability distribution?"
      ],
      "metadata": {
        "id": "b_mpH1ZvnwWy"
      }
    },
    {
      "cell_type": "markdown",
      "source": [
        "• The expected value of a probability distribution is the long-term average or mean of a random variable\n",
        "\n",
        "\n",
        "• It represents the value you would expect to get on average if the experiment is repeated many times\n",
        "\n",
        "\n",
        "• For a discrete random variable, it is calculated as E(X) = Σ [x × P(x)], summing over all possible values\n",
        "\n",
        "\n",
        "• For a continuous random variable, it is calculated using an integral of x times the probability density function\n",
        "\n",
        "\n",
        "• The expected value provides a measure of the central tendency of the distribution\n",
        "\n",
        "\n",
        "• It is used in decision making, risk analysis, and statistical modeling."
      ],
      "metadata": {
        "id": "iqTdI4t0n5_y"
      }
    },
    {
      "cell_type": "markdown",
      "source": [
        "Q23  How does a probability distribution relate to the expected outcome of a random variable?"
      ],
      "metadata": {
        "id": "ihphEEsIn-uC"
      }
    },
    {
      "cell_type": "markdown",
      "source": [
        "• A probability distribution shows all possible values of a random variable and their associated probabilities\n",
        "\n",
        "\n",
        "• The expected outcome (expected value) is calculated using the probabilities from the distribution\n",
        "\n",
        "\n",
        "• It represents the average or mean value you would expect over many repetitions of the experiment\n",
        "\n",
        "\n",
        "• The expected outcome summarizes the distribution into a single representative value\n",
        "\n",
        "\n",
        "• It helps in predicting, planning, and making decisions based on the random variable\n",
        "\n",
        "\n",
        "• Essentially, the probability distribution provides the foundation for computing the expected value."
      ],
      "metadata": {
        "id": "_Gx8lbfPoI56"
      }
    },
    {
      "cell_type": "markdown",
      "source": [
        "**PRACTICAL** **QUESTIONS**"
      ],
      "metadata": {
        "id": "cUirNsgeoORS"
      }
    },
    {
      "cell_type": "markdown",
      "source": [
        "Q1  Write a Python program to generate a random variable and display its value?"
      ],
      "metadata": {
        "id": "lSUMPn_zoUrS"
      }
    },
    {
      "cell_type": "code",
      "source": [
        "import random\n",
        "\n",
        "# Generate a random variable between 1 and 10\n",
        "rv = random.randint(1, 10)\n",
        "print(\"Random variable value:\", rv)"
      ],
      "metadata": {
        "id": "W0gLO3deo1nS"
      },
      "execution_count": null,
      "outputs": []
    },
    {
      "cell_type": "markdown",
      "source": [
        "Q2  Generate a discrete uniform distribution using Python and plot the probability mass function (PMF)?"
      ],
      "metadata": {
        "id": "ruIehp3bo4e1"
      }
    },
    {
      "cell_type": "code",
      "source": [
        "import matplotlib.pyplot as plt\n",
        "\n",
        "# Values and equal probabilities\n",
        "x = [1, 2, 3, 4, 5, 6]\n",
        "p = [1/6]*6\n",
        "\n",
        "# Plot PMF\n",
        "plt.stem(x, p, use_line_collection=True)\n",
        "plt.xlabel('Value')\n",
        "plt.ylabel('Probability')\n",
        "plt.title('PMF of Discrete Uniform Distribution')\n",
        "plt.show()"
      ],
      "metadata": {
        "id": "kOYZXIVgpIJy"
      },
      "execution_count": null,
      "outputs": []
    },
    {
      "cell_type": "markdown",
      "source": [
        "Q3  Write a Python function to calculate the probability distribution function (PDF) of a Bernoulli distribution?"
      ],
      "metadata": {
        "id": "r3PFvRZhpKR8"
      }
    },
    {
      "cell_type": "code",
      "source": [
        "def bernoulli_pdf(x, p):\n",
        "    return p if x == 1 else 1 - p\n",
        "\n",
        "# Example\n",
        "p = 0.7\n",
        "print(\"P(X=1) =\", bernoulli_pdf(1, p))\n",
        "print(\"P(X=0) =\", bernoulli_pdf(0, p))"
      ],
      "metadata": {
        "id": "JY-NuJmUpeG6"
      },
      "execution_count": null,
      "outputs": []
    },
    {
      "cell_type": "markdown",
      "source": [
        "Q4  Write a Python script to simulate a binomial distribution with n=10 and p=0.5, then plot its histogram?"
      ],
      "metadata": {
        "id": "MIul5uoRpgJ6"
      }
    },
    {
      "cell_type": "code",
      "source": [
        "import numpy as np\n",
        "import matplotlib.pyplot as plt\n",
        "\n",
        "data = np.random.binomial(10, 0.5, 1000)\n",
        "plt.hist(data, bins=range(12), edgecolor='black', align='left')\n",
        "plt.show()"
      ],
      "metadata": {
        "id": "sBGPPwBqpwlF"
      },
      "execution_count": null,
      "outputs": []
    },
    {
      "cell_type": "markdown",
      "source": [
        "Q5  Create a Poisson distribution and visualize it using Python?"
      ],
      "metadata": {
        "id": "LPb4eQVApyUC"
      }
    },
    {
      "cell_type": "code",
      "source": [
        "import numpy as np\n",
        "import matplotlib.pyplot as plt\n",
        "\n",
        "data = np.random.poisson(lam=3, size=1000)\n",
        "plt.hist(data, bins=range(0, max(data)+2), edgecolor='black', align='left')\n",
        "plt.show()"
      ],
      "metadata": {
        "id": "uDopYRmxp9f6"
      },
      "execution_count": null,
      "outputs": []
    },
    {
      "cell_type": "markdown",
      "source": [
        "Q6  Write a Python program to calculate and plot the cumulative distribution function (CDF) of a discrete\n",
        "uniform distribution?"
      ],
      "metadata": {
        "id": "bXvyy5egp_IS"
      }
    },
    {
      "cell_type": "code",
      "source": [
        "import matplotlib.pyplot as plt\n",
        "\n",
        "x = [1,2,3,4,5,6]\n",
        "cdf = [i/6 for i in range(1,7)]\n",
        "\n",
        "plt.step(x, cdf)\n",
        "plt.show()"
      ],
      "metadata": {
        "id": "vRztSkfgqOvq"
      },
      "execution_count": null,
      "outputs": []
    },
    {
      "cell_type": "markdown",
      "source": [
        "Q7 Generate a continuous uniform distribution using NumPy and visualize it?\n"
      ],
      "metadata": {
        "id": "hdSPU4-QqQGy"
      }
    },
    {
      "cell_type": "code",
      "source": [
        "import numpy as np\n",
        "import matplotlib.pyplot as plt\n",
        "\n",
        "data = np.random.uniform(0, 1, 1000)\n",
        "plt.hist(data, bins=20, edgecolor='black')\n",
        "plt.show()"
      ],
      "metadata": {
        "id": "ndQAMgfdqaYT"
      },
      "execution_count": null,
      "outputs": []
    },
    {
      "cell_type": "markdown",
      "source": [
        "Q8 Simulate data from a normal distribution and plot its histogram?"
      ],
      "metadata": {
        "id": "qocK9Htlqdj6"
      }
    },
    {
      "cell_type": "code",
      "source": [
        "import numpy as np\n",
        "import matplotlib.pyplot as plt\n",
        "\n",
        "data = np.random.normal(0, 1, 1000)\n",
        "plt.hist(data, bins=30, edgecolor='black')\n",
        "plt.show()"
      ],
      "metadata": {
        "id": "F87VBy2jqoXL"
      },
      "execution_count": null,
      "outputs": []
    },
    {
      "cell_type": "markdown",
      "source": [
        "Q9  Write a Python function to calculate Z-scores from a dataset and plot them?"
      ],
      "metadata": {
        "id": "l3RCzZKvqpuq"
      }
    },
    {
      "cell_type": "code",
      "source": [
        "import numpy as np\n",
        "import matplotlib.pyplot as plt\n",
        "\n",
        "data = np.random.normal(50,10,100)\n",
        "zs = (data - np.mean(data)) / np.std(data)\n",
        "plt.plot(zs, 'o')\n",
        "plt.show()"
      ],
      "metadata": {
        "id": "5f-bHyfMq5oS"
      },
      "execution_count": null,
      "outputs": []
    },
    {
      "cell_type": "markdown",
      "source": [
        "Q10  Implement the Central Limit Theorem (CLT) using Python for a non-normal distribution?"
      ],
      "metadata": {
        "id": "p5zzlVa0q798"
      }
    },
    {
      "cell_type": "code",
      "source": [
        "import numpy as np\n",
        "import matplotlib.pyplot as plt\n",
        "\n",
        "pop = np.random.uniform(0,1,10000)\n",
        "means = [np.mean(np.random.choice(pop,50)) for _ in range(1000)]\n",
        "plt.hist(means, bins=30)\n",
        "plt.show()"
      ],
      "metadata": {
        "id": "C-8K_3UyrLBy"
      },
      "execution_count": null,
      "outputs": []
    },
    {
      "cell_type": "markdown",
      "source": [
        "Q11  Simulate multiple samples from a normal distribution and verify the Central Limit Theorem?"
      ],
      "metadata": {
        "id": "WpDB_7rirMRS"
      }
    },
    {
      "cell_type": "code",
      "source": [
        "import numpy as np\n",
        "import matplotlib.pyplot as plt\n",
        "\n",
        "pop = np.random.normal(50, 10, 10000)\n",
        "means = [np.mean(np.random.choice(pop, 50)) for _ in range(1000)]\n",
        "plt.hist(means, bins=30)\n",
        "plt.show()"
      ],
      "metadata": {
        "id": "7bLbU3oGrao6"
      },
      "execution_count": null,
      "outputs": []
    },
    {
      "cell_type": "markdown",
      "source": [
        "Q12  Write a Python function to calculate and plot the standard normal distribution (mean = 0, std = 1)5?"
      ],
      "metadata": {
        "id": "IZgRILtTrb4q"
      }
    },
    {
      "cell_type": "code",
      "source": [
        "import numpy as np\n",
        "import matplotlib.pyplot as plt\n",
        "from scipy.stats import norm\n",
        "\n",
        "x = np.linspace(-4, 4, 100)\n",
        "plt.plot(x, norm.pdf(x, 0, 1))\n",
        "plt.show()"
      ],
      "metadata": {
        "id": "FO4VquTbrl9S"
      },
      "execution_count": null,
      "outputs": []
    },
    {
      "cell_type": "markdown",
      "source": [
        "Q13 Generate random variables and calculate their corresponding probabilities using the binomial distribution?"
      ],
      "metadata": {
        "id": "mALoTwlRrnWq"
      }
    },
    {
      "cell_type": "code",
      "source": [
        "from scipy.stats import binom\n",
        "\n",
        "n, p = 10, 0.5\n",
        "x = range(n+1)\n",
        "probs = binom.pmf(x, n, p)\n",
        "\n",
        "for xi, pi in zip(x, probs):\n",
        "    print(f\"P(X={xi}) = {pi}\")"
      ],
      "metadata": {
        "id": "58tnne5krzGj"
      },
      "execution_count": null,
      "outputs": []
    },
    {
      "cell_type": "markdown",
      "source": [
        "Q14  Write a Python program to calculate the Z-score for a given data point and compare it to a standard normal\n",
        "distribution?"
      ],
      "metadata": {
        "id": "SuZh2K7br0xR"
      }
    },
    {
      "cell_type": "code",
      "source": [
        "import numpy as np\n",
        "import matplotlib.pyplot as plt\n",
        "from scipy.stats import norm\n",
        "\n",
        "z = (75 - 70)/10\n",
        "print(z)\n",
        "\n",
        "x = np.linspace(-4,4,100)\n",
        "plt.plot(x, norm.pdf(x))\n",
        "plt.axvline(z, color='r')\n",
        "plt.show()"
      ],
      "metadata": {
        "id": "uj314LhWsI8C"
      },
      "execution_count": null,
      "outputs": []
    },
    {
      "cell_type": "markdown",
      "source": [
        "Q15 Implement hypothesis testing using Z-statistics for a sample dataset?"
      ],
      "metadata": {
        "id": "rbHVvTGrsKRS"
      }
    },
    {
      "cell_type": "code",
      "source": [
        "import numpy as np\n",
        "from scipy.stats import norm\n",
        "\n",
        "data = [52, 55, 53, 50, 54]\n",
        "mu0 = 50\n",
        "z = (np.mean(data) - mu0) / (np.std(data, ddof=1)/np.sqrt(len(data)))\n",
        "p = 2 * (1 - norm.cdf(abs(z)))\n",
        "\n",
        "print(\"Z-score:\", z)\n",
        "print(\"P-value:\", p"
      ],
      "metadata": {
        "id": "t-xT7pdSsW_q"
      },
      "execution_count": null,
      "outputs": []
    },
    {
      "cell_type": "markdown",
      "source": [
        "Q16  Create a confidence interval for a dataset using Python and interpret the result?"
      ],
      "metadata": {
        "id": "_fyyfX3XsYhM"
      }
    },
    {
      "cell_type": "code",
      "source": [
        "import numpy as np\n",
        "from scipy import stats\n",
        "\n",
        "data = [52, 55, 53, 50, 54]\n",
        "mean = np.mean(data)\n",
        "se = np.std(data, ddof=1)/np.sqrt(len(data))\n",
        "ci = stats.t.interval(0.95, len(data)-1, loc=mean, scale=se)\n",
        "\n",
        "print(\"95% Confidence Interval:\", ci)"
      ],
      "metadata": {
        "id": "-uq73IjSsjm-"
      },
      "execution_count": null,
      "outputs": []
    },
    {
      "cell_type": "markdown",
      "source": [
        "Q17  Generate data from a normal distribution, then calculate and interpret the confidence interval for its mean?"
      ],
      "metadata": {
        "id": "uSsg52OoslMK"
      }
    },
    {
      "cell_type": "code",
      "source": [
        "import numpy as np\n",
        "from scipy import stats\n",
        "\n",
        "data = np.random.normal(50, 10, 30)\n",
        "mean = np.mean(data)\n",
        "se = np.std(data, ddof=1)/np.sqrt(len(data))\n",
        "ci = stats.t.interval(0.95, len(data)-1, loc=mean, scale=se)\n",
        "\n",
        "print(\"Mean:\", mean)\n",
        "print(\"95% Confidence Interval:\", ci)"
      ],
      "metadata": {
        "id": "T8jTVegTswlP"
      },
      "execution_count": null,
      "outputs": []
    },
    {
      "cell_type": "markdown",
      "source": [
        "Q18 Write a Python script to calculate and visualize the probability density function (PDF) of a normal distribution?"
      ],
      "metadata": {
        "id": "havGREqCsy6K"
      }
    },
    {
      "cell_type": "code",
      "source": [
        "import numpy as np\n",
        "import matplotlib.pyplot as plt\n",
        "from scipy.stats import norm\n",
        "\n",
        "x = np.linspace(-4, 4, 100)\n",
        "plt.plot(x, norm.pdf(x, 0, 1))\n",
        "plt.show()"
      ],
      "metadata": {
        "id": "---if3fis-xh"
      },
      "execution_count": null,
      "outputs": []
    },
    {
      "cell_type": "markdown",
      "source": [
        "Q19  Use Python to calculate and interpret the cumulative distribution function (CDF) of a Poisson distribution?"
      ],
      "metadata": {
        "id": "xiqCxOhptAJU"
      }
    },
    {
      "cell_type": "code",
      "source": [
        "import numpy as np\n",
        "import matplotlib.pyplot as plt\n",
        "from scipy.stats import poisson\n",
        "\n",
        "x = np.arange(0, 15)\n",
        "cdf = poisson.cdf(x, mu=3)\n",
        "\n",
        "plt.step(x, cdf)\n",
        "plt.show()\n",
        "\n",
        "for xi, ci in zip(x, cdf):\n",
        "    print(f\"P(X ≤ {xi}) = {ci}\")"
      ],
      "metadata": {
        "id": "fh0ND6O7tKvq"
      },
      "execution_count": null,
      "outputs": []
    },
    {
      "cell_type": "markdown",
      "source": [
        "Q20 Simulate a random variable using a continuous uniform distribution and calculate its expected value?"
      ],
      "metadata": {
        "id": "MdCDTAsQtMdy"
      }
    },
    {
      "cell_type": "code",
      "source": [
        "import numpy as np\n",
        "\n",
        "data = np.random.uniform(0, 10, 1000)\n",
        "expected_value = np.mean(data)\n",
        "print(\"Expected Value:\", expected_value)"
      ],
      "metadata": {
        "id": "8A0nF4VxtbAZ"
      },
      "execution_count": null,
      "outputs": []
    },
    {
      "cell_type": "markdown",
      "source": [
        "Q21  Write a Python program to compare the standard deviations of two datasets and visualize the difference?\n"
      ],
      "metadata": {
        "id": "3aicZbX2tdCx"
      }
    },
    {
      "cell_type": "code",
      "source": [
        "import numpy as np\n",
        "import matplotlib.pyplot as plt\n",
        "\n",
        "data1 = np.random.normal(50, 5, 100)\n",
        "data2 = np.random.normal(50, 10, 100)\n",
        "\n",
        "std1, std2 = np.std(data1), np.std(data2)\n",
        "print(\"Std Dev Dataset 1:\", std1)\n",
        "print(\"Std Dev Dataset 2:\", std2)\n",
        "\n",
        "plt.boxplot([data1, data2], labels=['Dataset 1', 'Dataset 2'])\n",
        "plt.show("
      ],
      "metadata": {
        "id": "J1eiTWtftnMC"
      },
      "execution_count": null,
      "outputs": []
    },
    {
      "cell_type": "markdown",
      "source": [
        "Q22 Calculate the range and interquartile range (IQR) of a dataset generated from a normal distribution?"
      ],
      "metadata": {
        "id": "VoAYtIuTtrss"
      }
    },
    {
      "cell_type": "code",
      "source": [
        "import numpy as np\n",
        "\n",
        "data = np.random.normal(50, 10, 100)\n",
        "data_range = np.max(data) - np.min(data)\n",
        "iqr = np.percentile(data, 75) - np.percentile(data, 25)\n",
        "\n",
        "print(\"Range:\", data_range)\n",
        "print(\"IQR:\", iqr)"
      ],
      "metadata": {
        "id": "8g7ozwlst2WD"
      },
      "execution_count": null,
      "outputs": []
    },
    {
      "cell_type": "markdown",
      "source": [
        "Q23  Implement Z-score normalization on a dataset and visualize its transformation?"
      ],
      "metadata": {
        "id": "XGluKJtSt4Py"
      }
    },
    {
      "cell_type": "code",
      "source": [
        "import numpy as np\n",
        "import matplotlib.pyplot as plt\n",
        "\n",
        "data = np.random.normal(50, 10, 100)\n",
        "z_data = (data - np.mean(data)) / np.std(data)\n",
        "\n",
        "plt.hist(z_data, bins=20, edgecolor='black')\n",
        "plt.show()"
      ],
      "metadata": {
        "id": "osbUnz_9vbk2"
      },
      "execution_count": null,
      "outputs": []
    },
    {
      "cell_type": "markdown",
      "source": [
        "Q24  Write a Python function to calculate the skewness and kurtosis of a dataset generated from a normal\n",
        "distribution?"
      ],
      "metadata": {
        "id": "ZXIKoMX_veyK"
      }
    },
    {
      "cell_type": "code",
      "source": [
        "import numpy as np\n",
        "from scipy.stats import skew, kurtosis\n",
        "\n",
        "data = np.random.normal(50, 10, 100)\n",
        "print(\"Skewness:\", skew(data))\n",
        "print(\"Kurtosis:\", kurtosis(data))"
      ],
      "metadata": {
        "id": "HYhdGpJ-vqAL"
      },
      "execution_count": null,
      "outputs": []
    },
    {
      "cell_type": "code",
      "source": [],
      "metadata": {
        "id": "axqHx1ARvj6d"
      },
      "execution_count": null,
      "outputs": []
    },
    {
      "cell_type": "code",
      "source": [],
      "metadata": {
        "id": "ZywRz8szsWH6"
      },
      "execution_count": null,
      "outputs": []
    },
    {
      "cell_type": "code",
      "source": [],
      "metadata": {
        "id": "Q9kdlXSDqE8B"
      },
      "execution_count": null,
      "outputs": []
    },
    {
      "cell_type": "code",
      "execution_count": null,
      "metadata": {
        "id": "-SEPlfW6gLVt"
      },
      "outputs": [],
      "source": []
    },
    {
      "cell_type": "code",
      "source": [],
      "metadata": {
        "id": "Lu_tVASdgMP5"
      },
      "execution_count": null,
      "outputs": []
    },
    {
      "cell_type": "code",
      "source": [],
      "metadata": {
        "id": "mJoAS37YgMWg"
      },
      "execution_count": null,
      "outputs": []
    },
    {
      "cell_type": "code",
      "source": [],
      "metadata": {
        "id": "XpgZeXcdgMab"
      },
      "execution_count": null,
      "outputs": []
    },
    {
      "cell_type": "code",
      "source": [],
      "metadata": {
        "id": "qEqfEUA-gMeN"
      },
      "execution_count": null,
      "outputs": []
    },
    {
      "cell_type": "code",
      "source": [],
      "metadata": {
        "id": "5wCdUaj6gMhb"
      },
      "execution_count": null,
      "outputs": []
    },
    {
      "cell_type": "code",
      "source": [],
      "metadata": {
        "id": "AQ52e1NxgMkd"
      },
      "execution_count": null,
      "outputs": []
    },
    {
      "cell_type": "code",
      "source": [],
      "metadata": {
        "id": "aXQ1A7wYgMqU"
      },
      "execution_count": null,
      "outputs": []
    },
    {
      "cell_type": "code",
      "source": [],
      "metadata": {
        "id": "XXr2iTQNgMtc"
      },
      "execution_count": null,
      "outputs": []
    },
    {
      "cell_type": "code",
      "source": [],
      "metadata": {
        "id": "cCrRXo5ygMwU"
      },
      "execution_count": null,
      "outputs": []
    },
    {
      "cell_type": "code",
      "source": [],
      "metadata": {
        "id": "P_aOccmZgMzb"
      },
      "execution_count": null,
      "outputs": []
    },
    {
      "cell_type": "code",
      "source": [],
      "metadata": {
        "id": "TNeLhFrzgM2c"
      },
      "execution_count": null,
      "outputs": []
    },
    {
      "cell_type": "code",
      "source": [],
      "metadata": {
        "id": "rHoKnNQsgM5r"
      },
      "execution_count": null,
      "outputs": []
    },
    {
      "cell_type": "code",
      "source": [],
      "metadata": {
        "id": "VcpKy8gCgM-E"
      },
      "execution_count": null,
      "outputs": []
    },
    {
      "cell_type": "code",
      "source": [],
      "metadata": {
        "id": "njw8_JwvgNBe"
      },
      "execution_count": null,
      "outputs": []
    },
    {
      "cell_type": "code",
      "source": [],
      "metadata": {
        "id": "XF9B7dbTgNJ8"
      },
      "execution_count": null,
      "outputs": []
    },
    {
      "cell_type": "code",
      "source": [],
      "metadata": {
        "id": "faZWa3XDgNNW"
      },
      "execution_count": null,
      "outputs": []
    },
    {
      "cell_type": "code",
      "source": [],
      "metadata": {
        "id": "Hzr1CESKgNQl"
      },
      "execution_count": null,
      "outputs": []
    },
    {
      "cell_type": "code",
      "source": [],
      "metadata": {
        "id": "UcMtLjG8gNTs"
      },
      "execution_count": null,
      "outputs": []
    },
    {
      "cell_type": "code",
      "source": [],
      "metadata": {
        "id": "EBBKGoL7gNW2"
      },
      "execution_count": null,
      "outputs": []
    },
    {
      "cell_type": "code",
      "source": [],
      "metadata": {
        "id": "4IjrrD4JgNaG"
      },
      "execution_count": null,
      "outputs": []
    },
    {
      "cell_type": "code",
      "source": [],
      "metadata": {
        "id": "Kqf2gTtbgNdf"
      },
      "execution_count": null,
      "outputs": []
    },
    {
      "cell_type": "code",
      "source": [],
      "metadata": {
        "id": "p45Wei-sgNge"
      },
      "execution_count": null,
      "outputs": []
    },
    {
      "cell_type": "code",
      "source": [],
      "metadata": {
        "id": "QJ3n7jRzgNjl"
      },
      "execution_count": null,
      "outputs": []
    },
    {
      "cell_type": "code",
      "source": [],
      "metadata": {
        "id": "zrKuURSNgNmu"
      },
      "execution_count": null,
      "outputs": []
    },
    {
      "cell_type": "code",
      "source": [],
      "metadata": {
        "id": "vZqwNqsDgNp4"
      },
      "execution_count": null,
      "outputs": []
    },
    {
      "cell_type": "code",
      "source": [],
      "metadata": {
        "id": "qt8qqYQkgNs8"
      },
      "execution_count": null,
      "outputs": []
    },
    {
      "cell_type": "code",
      "source": [],
      "metadata": {
        "id": "DPaoYeAcgNwA"
      },
      "execution_count": null,
      "outputs": []
    },
    {
      "cell_type": "code",
      "source": [],
      "metadata": {
        "id": "gWEPH4NVgNy2"
      },
      "execution_count": null,
      "outputs": []
    },
    {
      "cell_type": "code",
      "source": [],
      "metadata": {
        "id": "FORnBZX3gN2F"
      },
      "execution_count": null,
      "outputs": []
    },
    {
      "cell_type": "code",
      "source": [],
      "metadata": {
        "id": "_SQazlaOgN-b"
      },
      "execution_count": null,
      "outputs": []
    },
    {
      "cell_type": "code",
      "source": [],
      "metadata": {
        "id": "KiyLnVJggOBu"
      },
      "execution_count": null,
      "outputs": []
    },
    {
      "cell_type": "code",
      "source": [],
      "metadata": {
        "id": "p1PQXX-1gOIm"
      },
      "execution_count": null,
      "outputs": []
    },
    {
      "cell_type": "code",
      "source": [],
      "metadata": {
        "id": "1pOJj_fFgOL8"
      },
      "execution_count": null,
      "outputs": []
    },
    {
      "cell_type": "code",
      "source": [],
      "metadata": {
        "id": "Q4JW38JJgOPF"
      },
      "execution_count": null,
      "outputs": []
    },
    {
      "cell_type": "code",
      "source": [],
      "metadata": {
        "id": "wVSDWnFvgOSP"
      },
      "execution_count": null,
      "outputs": []
    },
    {
      "cell_type": "code",
      "source": [],
      "metadata": {
        "id": "IspBJ2K1gOVW"
      },
      "execution_count": null,
      "outputs": []
    },
    {
      "cell_type": "code",
      "source": [],
      "metadata": {
        "id": "HbV-96ecgOYn"
      },
      "execution_count": null,
      "outputs": []
    },
    {
      "cell_type": "code",
      "source": [],
      "metadata": {
        "id": "UWvjSIAzgObo"
      },
      "execution_count": null,
      "outputs": []
    },
    {
      "cell_type": "code",
      "source": [],
      "metadata": {
        "id": "FTQbK2VcgOet"
      },
      "execution_count": null,
      "outputs": []
    },
    {
      "cell_type": "code",
      "source": [],
      "metadata": {
        "id": "pC9Y70fFgOh3"
      },
      "execution_count": null,
      "outputs": []
    },
    {
      "cell_type": "code",
      "source": [],
      "metadata": {
        "id": "pVK1jhuUgOkv"
      },
      "execution_count": null,
      "outputs": []
    },
    {
      "cell_type": "code",
      "source": [],
      "metadata": {
        "id": "-_Pizfb_gOn0"
      },
      "execution_count": null,
      "outputs": []
    },
    {
      "cell_type": "code",
      "source": [],
      "metadata": {
        "id": "E8E7v6XjgOq2"
      },
      "execution_count": null,
      "outputs": []
    },
    {
      "cell_type": "code",
      "source": [],
      "metadata": {
        "id": "aPeiAWl2gOtw"
      },
      "execution_count": null,
      "outputs": []
    },
    {
      "cell_type": "code",
      "source": [],
      "metadata": {
        "id": "9sH0QZFugOwt"
      },
      "execution_count": null,
      "outputs": []
    },
    {
      "cell_type": "code",
      "source": [],
      "metadata": {
        "id": "kZHWLQdbgOzw"
      },
      "execution_count": null,
      "outputs": []
    },
    {
      "cell_type": "code",
      "source": [],
      "metadata": {
        "id": "CsepSVQzgO2r"
      },
      "execution_count": null,
      "outputs": []
    },
    {
      "cell_type": "code",
      "source": [],
      "metadata": {
        "id": "xiJ-rdN5gO5o"
      },
      "execution_count": null,
      "outputs": []
    },
    {
      "cell_type": "code",
      "source": [],
      "metadata": {
        "id": "1aWQJUUzgO8p"
      },
      "execution_count": null,
      "outputs": []
    },
    {
      "cell_type": "code",
      "source": [],
      "metadata": {
        "id": "OGd2HPLmgO_Q"
      },
      "execution_count": null,
      "outputs": []
    },
    {
      "cell_type": "code",
      "source": [],
      "metadata": {
        "id": "vcLUhykSgPCC"
      },
      "execution_count": null,
      "outputs": []
    },
    {
      "cell_type": "code",
      "source": [],
      "metadata": {
        "id": "8kwC_3W8gPEv"
      },
      "execution_count": null,
      "outputs": []
    },
    {
      "cell_type": "code",
      "source": [],
      "metadata": {
        "id": "KD-4WNj3gPJT"
      },
      "execution_count": null,
      "outputs": []
    },
    {
      "cell_type": "code",
      "source": [],
      "metadata": {
        "id": "-8VR968PgPOI"
      },
      "execution_count": null,
      "outputs": []
    },
    {
      "cell_type": "code",
      "source": [],
      "metadata": {
        "id": "DrvKHI6BgPRJ"
      },
      "execution_count": null,
      "outputs": []
    },
    {
      "cell_type": "code",
      "source": [],
      "metadata": {
        "id": "ZezTk0TjgPTq"
      },
      "execution_count": null,
      "outputs": []
    },
    {
      "cell_type": "code",
      "source": [],
      "metadata": {
        "id": "7NtqLVh6gPYt"
      },
      "execution_count": null,
      "outputs": []
    },
    {
      "cell_type": "code",
      "source": [],
      "metadata": {
        "id": "oJpoo103gPed"
      },
      "execution_count": null,
      "outputs": []
    },
    {
      "cell_type": "code",
      "source": [],
      "metadata": {
        "id": "imTbrz8dgPhX"
      },
      "execution_count": null,
      "outputs": []
    }
  ]
}